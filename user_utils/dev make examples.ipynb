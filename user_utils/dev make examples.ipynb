{
 "cells": [
  {
   "cell_type": "code",
   "execution_count": 16,
   "metadata": {
    "scrolled": false
   },
   "outputs": [
    {
     "data": {
      "text/plain": [
       "<module 'construct_landing_page' from 'construct_landing_page.pyc'>"
      ]
     },
     "execution_count": 16,
     "metadata": {},
     "output_type": "execute_result"
    },
    {
     "name": "stdout",
     "output_type": "stream",
     "text": [
      "Saved at ../public/landing_pages/examples/landingPage_InlabMTS.html\n",
      "Saved at ../public/landing_pages/examples/landingPage_InlabSR.html\n",
      "Saved at ../public/landing_pages/examples/landingPage_MechanicalTurkSR.html\n",
      "Saved at ../public/landing_pages/examples/landingPage_MechanicalTurkMTS.html\n"
     ]
    }
   ],
   "source": [
    "import construct_landing_page as c \n",
    "reload(c)\n",
    "\n",
    "SAVE_LOCATION = '../public/landing_pages/examples/'\n",
    "def makeInLabMTS(): \n",
    "    IMAGEBAGS = 'https://s3.amazonaws.com/milresources/ImageBagMetaDefinitions/MutatorTraining_FullVarWithBGSetA.json'\n",
    "\n",
    "    GAME = {'gameID':'example_inlab_MTS',\n",
    "          \"periodicRewardIntervalMsec\":60000,\n",
    "          \"periodicRewardAmount\":1,\n",
    "          \"bonusUSDPerCorrect\":0, \n",
    "          \"onFinish\":\"continue\",\n",
    "          \"randomSeed\":'none',\n",
    "    }\n",
    "\n",
    "    TASK_SEQUENCE = [{\n",
    "                  \"taskType\":\"MTS\", \n",
    "                  \"sampleBagNames\":['FullVarWithBGSetA_batch0obj0', 'FullVarWithBGSetA_batch0obj1', \n",
    "                  'FullVarWithBGSetA_batch0obj2'], \n",
    "                  \"fixationXCentroid\":0.5,\n",
    "                  \"fixationYCentroid\":0.8,\n",
    "                  \"fixationDiameterDegrees\":3,\n",
    "                  \"sampleXCentroid\":0.5,\n",
    "                  \"sampleYCentroid\":0.5,\n",
    "                  \"sampleDiameterDegrees\":8,\n",
    "                  \"actionXCentroid\":[0.2, 0.8], \n",
    "                  \"actionYCentroid\":[0.8, 0.8],\n",
    "                  \"actionDiameterDegrees\":[6, 6],\n",
    "                  \"choiceXCentroid\":[0.2, 0.8],\n",
    "                  \"choiceYCentroid\":[0.8, 0.8],\n",
    "                  \"choiceDiameterDegrees\":[6, 6],\n",
    "                  \"choiceMap\":{\"FullVarWithBGSetA_batch0obj0\":\"FullVarWithBGSetA_batch0obj0\", \n",
    "                  \"FullVarWithBGSetA_batch0obj1\":\"FullVarWithBGSetA_batch0obj1\", \n",
    "                  'FullVarWithBGSetA_batch0obj2':\"FullVarWithBGSetA_batch0obj2\"}, \n",
    "                  \"sampleOnMsec\":200, \n",
    "                  \"sampleOffMsec\":0,\n",
    "                  \"choiceTimeLimitMsec\":5000,\n",
    "                  \"punishTimeOutMsec\":100,\n",
    "                  \"punishStreakTimeOutMultiplier\":1,\n",
    "                  \"rewardTimeOutMsec\":150,\n",
    "                  \"probabilityRepeatWhenWrong\":0,\n",
    "                  \"averageReturnCriterion\":0.8, \n",
    "                  \"minTrialsCriterion\":5,\n",
    "                  }]\n",
    "\n",
    "    ENVIRONMENT = {\n",
    "                    'playspace_degreesVisualAngle':30,\n",
    "                    'playspace_verticalOffsetInches':0, \n",
    "                    'playspace_viewingDistanceInches':8, \n",
    "                    'screen_virtualPixelsPerInch':143.755902965,\n",
    "                    'primary_reinforcer_type':'juice', \n",
    "                    'action_event_type':['mouseup', 'touchstart', 'touchmove'],\n",
    "                    'rigEnvironment':'monkeybox', \n",
    "                }  \n",
    "\n",
    "    SESSION_PACKAGE = {'GAME_PACKAGE':{'IMAGEBAGS':IMAGEBAGS, 'TASK_SEQUENCE':TASK_SEQUENCE, 'GAME':GAME}, \n",
    "    'ENVIRONMENT':ENVIRONMENT}\n",
    "    c.write_landing_page(SESSION_PACKAGE, agentID = 'example_inlab_worker', landingPageName = 'landingPage_InlabMTS.html', saveDirectoryPath = SAVE_LOCATION) \n",
    "    return \n",
    "\n",
    "def makeInLabSR():\n",
    "    sessionPackage = '/MonkeyTurk_upstairs/Subjects/exampleSR.json'\n",
    "    c.write_landing_page(sessionPackage, agentID = 'example_inlab_worker', landingPageName = 'landingPage_InlabSR.html', saveDirectoryPath = SAVE_LOCATION) \n",
    "    return\n",
    "\n",
    "def makeMechanicalTurkSR(): \n",
    "    IMAGEBAGS = {\"stimulus_objectome_flute\":[\"https://s3.amazonaws.com/milresources/Images/MonkeyTurkSets/objectome/images/objectome_flute_e0aed0e2c3f0c3cb7a7e235bd931f193a536391d_ty-0.85987_tz-0.38018_rxy-36.131_rxz152.6439_ryz28.9932_s1.4314.png\", \"https://s3.amazonaws.com/milresources/Images/MonkeyTurkSets/objectome/images/objectome_flute_2012a31313faa422b2623460d0c33a9f5eb3b238_ty-0.33547_tz-0.0026731_rxy-38.2159_rxz-115.311_ryz90.0954_s1.3508.png\"], \n",
    "    \"token_objectome_flute\": [\"https://s3.amazonaws.com/milresources/Images/MonkeyTurkSets/objectome_tokens/images/objectomeTokens_objectome_flute.png\"], \n",
    "    \"stimulus_objectome_dog\": [\"https://s3.amazonaws.com/milresources/Images/MonkeyTurkSets/objectome/images/objectome_dog_e1ed016de5e47e8a6567123ce134d72b7187db73_ty0.43294_tz-0.29943_rxy-112.6794_rxz75.5665_ryz127.211_s1.6328.png\", \"https://s3.amazonaws.com/milresources/Images/MonkeyTurkSets/objectome/images/objectome_dog_28ebb7db56691da21fa6d640f5ef719f916cb7ff_ty-0.48998_tz-0.20078_rxy-84.7937_rxz-117.8076_ryz175.5429_s1.3151.png\"], \n",
    "    \"token_objectome_dog\": [\"https://s3.amazonaws.com/milresources/Images/MonkeyTurkSets/objectome_tokens/images/objectomeTokens_objectome_dog.png\"], \n",
    "    \"token_objectome_pineapple\": [\"https://s3.amazonaws.com/milresources/Images/MonkeyTurkSets/objectome_tokens/images/objectomeTokens_objectome_pineapple.png\"],\n",
    "    \"stimulus_objectome_pineapple\": [\"https://s3.amazonaws.com/milresources/Images/MonkeyTurkSets/objectome/images/objectome_pineapple_5946318bc2cdd1947534ae15d43aa7a0d820506e_ty-0.64759_tz0.33642_rxy-5.6836_rxz-71.4586_ryz62.4466_s1.169.png\", \"https://s3.amazonaws.com/milresources/Images/MonkeyTurkSets/objectome/images/objectome_pineapple_c50790daa826f1d3fbed5580820c6c91fdded273_ty-0.57074_tz0.84081_rxy-157.3224_rxz64.5421_ryz167.7568_s0.86084.png\"]\n",
    "    }\n",
    "\n",
    "    GAME = {'gameID':'example_MechanicalTurk_SR',\n",
    "            \"periodicRewardIntervalMsec\":0,\n",
    "            \"periodicRewardAmount\":0,\n",
    "            \"bonusUSDPerCorrect\":0.0005, \n",
    "            \"onFinish\":\"loop\",\n",
    "            \"minimumTrials\":2,\n",
    "            \"maximumTrials\":800,\n",
    "    }\n",
    "\n",
    "    TASK_SEQUENCE = [{\n",
    "                    \"taskType\":\"SR\", \n",
    "                    \"sampleBagNames\":['stimulus_objectome_pineapple', 'stimulus_objectome_flute', \n",
    "                    'stimulus_objectome_dog'], \n",
    "                    \"fixationXCentroid\":0.5,\n",
    "                    \"fixationYCentroid\":0.8,\n",
    "                    \"fixationDiameterDegrees\":3,\n",
    "                    \"sampleXCentroid\":0.5,\n",
    "                    \"sampleYCentroid\":0.5,\n",
    "                    \"sampleDiameterDegrees\":8,\n",
    "                    \"actionXCentroid\":[0.2, 0.8, 0.5], \n",
    "                    \"actionYCentroid\":[0.8, 0.8, 0.2],\n",
    "                    \"actionDiameterDegrees\":[6, 6, 6],\n",
    "                    \"choiceXCentroid\":[0.2, 0.8, 0.5,],\n",
    "                    \"choiceYCentroid\":[0.8, 0.8, 0.2],\n",
    "                    \"choiceDiameterDegrees\":[6, 6, 6],\n",
    "                    \"rewardMap\":{'stimulus_objectome_pineapple':[1, 0, 0], 'stimulus_objectome_flute':[0, 1, 0], 'stimulus_objectome_dog':[0, 0, 1]},\n",
    "                    \"sampleOnMsec\":200, \n",
    "                    \"sampleOffMsec\":0,\n",
    "                    \"choiceTimeLimitMsec\":5000,\n",
    "                    \"punishTimeOutMsec\":400,\n",
    "                    \"punishStreakTimeOutMultiplier\":1.2,\n",
    "                    \"rewardTimeOutMsec\":150,\n",
    "                    \"probabilityRepeatWhenWrong\":0,\n",
    "                    \"averageReturnCriterion\":0.8, \n",
    "                    \"minTrialsCriterion\":5,\n",
    "                    }]\n",
    "\n",
    "    GAME_PACKAGE = {'IMAGEBAGS':IMAGEBAGS, 'GAME':GAME, 'TASK_SEQUENCE':TASK_SEQUENCE}\n",
    "    ENVIRONMENT = {\n",
    "                      'playspace_degreesVisualAngle':45,\n",
    "                      'playspace_verticalOffsetInches':0, \n",
    "                      'playspace_viewingDistanceInches':8, \n",
    "                      'screen_virtualPixelsPerInch':143.755902965,\n",
    "                      'primary_reinforcer_type':'monetary', \n",
    "                      'action_event_type':['mouseup', 'touchstart', 'touchmove'],\n",
    "                      'rigEnvironment':'mechanicalturk', \n",
    "                  }   \n",
    "\n",
    "    sessionPackage = {'GAME_PACKAGE':GAME_PACKAGE, 'ENVIRONMENT':ENVIRONMENT}\n",
    "    c.write_landing_page(sessionPackage, agentID = None, landingPageName = 'landingPage_MechanicalTurkSR.html', saveDirectoryPath = SAVE_LOCATION) \n",
    "\n",
    "    \n",
    "    return\n",
    "\n",
    "\n",
    "def makeMechanicalTurkMTS(): \n",
    "\n",
    "    IMAGEBAGS = {\"stimulus_objectome_flute\":[\"https://s3.amazonaws.com/milresources/Images/MonkeyTurkSets/objectome/images/objectome_flute_e0aed0e2c3f0c3cb7a7e235bd931f193a536391d_ty-0.85987_tz-0.38018_rxy-36.131_rxz152.6439_ryz28.9932_s1.4314.png\", \"https://s3.amazonaws.com/milresources/Images/MonkeyTurkSets/objectome/images/objectome_flute_2012a31313faa422b2623460d0c33a9f5eb3b238_ty-0.33547_tz-0.0026731_rxy-38.2159_rxz-115.311_ryz90.0954_s1.3508.png\"], \n",
    "    \"token_objectome_flute\": [\"https://s3.amazonaws.com/milresources/Images/MonkeyTurkSets/objectome_tokens/images/objectomeTokens_objectome_flute.png\"], \n",
    "    \"stimulus_objectome_dog\": [\"https://s3.amazonaws.com/milresources/Images/MonkeyTurkSets/objectome/images/objectome_dog_e1ed016de5e47e8a6567123ce134d72b7187db73_ty0.43294_tz-0.29943_rxy-112.6794_rxz75.5665_ryz127.211_s1.6328.png\", \"https://s3.amazonaws.com/milresources/Images/MonkeyTurkSets/objectome/images/objectome_dog_28ebb7db56691da21fa6d640f5ef719f916cb7ff_ty-0.48998_tz-0.20078_rxy-84.7937_rxz-117.8076_ryz175.5429_s1.3151.png\"], \n",
    "    \"token_objectome_dog\": [\"https://s3.amazonaws.com/milresources/Images/MonkeyTurkSets/objectome_tokens/images/objectomeTokens_objectome_dog.png\"], \n",
    "    \"token_objectome_pineapple\": [\"https://s3.amazonaws.com/milresources/Images/MonkeyTurkSets/objectome_tokens/images/objectomeTokens_objectome_pineapple.png\"],\n",
    "    \"stimulus_objectome_pineapple\": [\"https://s3.amazonaws.com/milresources/Images/MonkeyTurkSets/objectome/images/objectome_pineapple_5946318bc2cdd1947534ae15d43aa7a0d820506e_ty-0.64759_tz0.33642_rxy-5.6836_rxz-71.4586_ryz62.4466_s1.169.png\", \"https://s3.amazonaws.com/milresources/Images/MonkeyTurkSets/objectome/images/objectome_pineapple_c50790daa826f1d3fbed5580820c6c91fdded273_ty-0.57074_tz0.84081_rxy-157.3224_rxz64.5421_ryz167.7568_s0.86084.png\"]\n",
    "    }\n",
    "\n",
    "    GAME = {'gameID':'example_MechanicalTurk_MTS',\n",
    "            \"periodicRewardIntervalMsec\":0,\n",
    "            \"periodicRewardAmount\":0,\n",
    "            \"bonusUSDPerCorrect\":0.0005, \n",
    "            \"onFinish\":\"loop\",\n",
    "            \"minimumTrials\":2,\n",
    "            \"maximumTrials\":800,\n",
    "    }\n",
    "\n",
    "    TASK_SEQUENCE = [{\n",
    "                    \"taskType\":\"MTS\", \n",
    "                    \"sampleBagNames\":['stimulus_objectome_pineapple', 'stimulus_objectome_flute', \n",
    "                    'stimulus_objectome_dog'], \n",
    "                    \"fixationXCentroid\":0.5,\n",
    "                    \"fixationYCentroid\":0.8,\n",
    "                    \"fixationDiameterDegrees\":3,\n",
    "                    \"sampleXCentroid\":0.5,\n",
    "                    \"sampleYCentroid\":0.5,\n",
    "                    \"sampleDiameterDegrees\":8,\n",
    "                    \"actionXCentroid\":[0.2, 0.8, 0.5], \n",
    "                    \"actionYCentroid\":[0.8, 0.8, 0.2],\n",
    "                    \"actionDiameterDegrees\":[6, 6, 6],\n",
    "                    \"choiceXCentroid\":[0.2, 0.8, 0.5,],\n",
    "                    \"choiceYCentroid\":[0.8, 0.8, 0.2],\n",
    "                    \"choiceDiameterDegrees\":[6, 6, 6],\n",
    "                    \"choiceMap\":{\"stimulus_objectome_flute\":\"token_objectome_flute\", \n",
    "                    \"stimulus_objectome_pineapple\":\"token_objectome_pineapple\", \n",
    "                    'stimulus_objectome_dog':\"token_objectome_dog\"}, \n",
    "                    \"sampleOnMsec\":200, \n",
    "                    \"sampleOffMsec\":0,\n",
    "                    \"choiceTimeLimitMsec\":5000,\n",
    "                    \"punishTimeOutMsec\":400,\n",
    "                    \"punishStreakTimeOutMultiplier\":1.2,\n",
    "                    \"rewardTimeOutMsec\":150,\n",
    "                    \"probabilityRepeatWhenWrong\":0,\n",
    "                    \"averageReturnCriterion\":0.8, \n",
    "                    \"minTrialsCriterion\":5,\n",
    "                    }]\n",
    "\n",
    "    GAME_PACKAGE = {'IMAGEBAGS':IMAGEBAGS, 'GAME':GAME, 'TASK_SEQUENCE':TASK_SEQUENCE}\n",
    "    ENVIRONMENT = {\n",
    "                      'playspace_degreesVisualAngle':45,\n",
    "                      'playspace_verticalOffsetInches':0, \n",
    "                      'playspace_viewingDistanceInches':8, \n",
    "                      'screen_virtualPixelsPerInch':143.755902965,\n",
    "                      'primary_reinforcer_type':'monetary', \n",
    "                      'action_event_type':['mouseup', 'touchstart', 'touchmove'],\n",
    "                      'rigEnvironment':'mechanicalturk', \n",
    "                  }   \n",
    "\n",
    "    sessionPackage = {'GAME_PACKAGE':GAME_PACKAGE, 'ENVIRONMENT':ENVIRONMENT}\n",
    "    c.write_landing_page(sessionPackage, agentID = None, landingPageName = 'landingPage_MechanicalTurkMTS.html', saveDirectoryPath = SAVE_LOCATION) \n",
    "    return \n",
    "\n",
    "\n",
    "if __name__ == '__main__': \n",
    "    makeInLabMTS()\n",
    "    makeInLabSR()\n",
    "    makeMechanicalTurkSR()\n",
    "    makeMechanicalTurkMTS()\n"
   ]
  },
  {
   "cell_type": "code",
   "execution_count": 4,
   "metadata": {},
   "outputs": [
    {
     "data": {
      "text/plain": [
       "'__main__'"
      ]
     },
     "execution_count": 4,
     "metadata": {},
     "output_type": "execute_result"
    }
   ],
   "source": [
    "__name__"
   ]
  },
  {
   "cell_type": "code",
   "execution_count": 13,
   "metadata": {
    "collapsed": true
   },
   "outputs": [],
   "source": [
    "x = 'asdf'"
   ]
  },
  {
   "cell_type": "code",
   "execution_count": 14,
   "metadata": {},
   "outputs": [
    {
     "data": {
      "text/plain": [
       "True"
      ]
     },
     "execution_count": 14,
     "metadata": {},
     "output_type": "execute_result"
    }
   ],
   "source": [
    "x.startswith('a')"
   ]
  },
  {
   "cell_type": "code",
   "execution_count": null,
   "metadata": {
    "collapsed": true
   },
   "outputs": [],
   "source": []
  }
 ],
 "metadata": {
  "kernelspec": {
   "display_name": "Python 2",
   "language": "python",
   "name": "python2"
  },
  "language_info": {
   "codemirror_mode": {
    "name": "ipython",
    "version": 2
   },
   "file_extension": ".py",
   "mimetype": "text/x-python",
   "name": "python",
   "nbconvert_exporter": "python",
   "pygments_lexer": "ipython2",
   "version": "2.7.13"
  }
 },
 "nbformat": 4,
 "nbformat_minor": 2
}
